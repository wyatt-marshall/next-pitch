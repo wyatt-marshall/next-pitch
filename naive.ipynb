{
 "cells": [
  {
   "cell_type": "code",
   "execution_count": 30,
   "metadata": {},
   "outputs": [],
   "source": [
    "import numpy as np\n",
    "import pandas as pd\n",
    "import random\n",
    "from preprocessing import *\n",
    "from sklearn.model_selection import train_test_split"
   ]
  },
  {
   "cell_type": "code",
   "execution_count": 31,
   "metadata": {},
   "outputs": [],
   "source": [
    "pitchers = ['Darvish', 'deGrom', 'Keuchel', 'Porcello', 'Scherzer', 'Lester', 'Verlander', 'Kimbrel', 'Jansen', 'Eovaldi']"
   ]
  },
  {
   "cell_type": "code",
   "execution_count": 32,
   "metadata": {},
   "outputs": [
    {
     "name": "stdout",
     "output_type": "stream",
     "text": [
      "(3, 3)\n",
      "Darvish 0.37064396980889674\n",
      "deGrom 0.5129151291512916\n",
      "Keuchel 0.4267882187938289\n",
      "(4, 1)\n",
      "(5, 1)\n",
      "(6, 1)\n",
      "(6, 2)\n",
      "Porcello 0.40283342873497424\n",
      "(0, 3)\n",
      "(0, 4)\n",
      "(1, 4)\n",
      "Scherzer 0.49361893517737676\n",
      "(2, 3)\n",
      "(3, 3)\n",
      "(0, 3)\n",
      "(2, 3)\n",
      "(2, 3)\n",
      "(4, 2)\n",
      "Lester 0.43588805560636545\n",
      "(1, 3)\n",
      "Verlander 0.5495216100296931\n",
      "Kimbrel 0.63713163064833\n",
      "(0, 3)\n",
      "Jansen 0.8203845552602782\n",
      "(4, 0)\n",
      "(5, 0)\n",
      "(6, 0)\n",
      "Eovaldi 0.41823287967163536\n"
     ]
    }
   ],
   "source": [
    "scores = {}\n",
    "for pitcher in pitchers:\n",
    "    x, y = get_x_y_fastballs_offspeed(pitcher)\n",
    "    df = x\n",
    "    df['offspeed'] = y['offspeed']\n",
    "    \n",
    "    df = df.iloc[1: , :]\n",
    "    df = df.dropna()\n",
    "    \n",
    "    d = {(0,0): {}, (1,0): {}, (2,0): {}, (3,0): {}, (0,1): {}, (1,1): {}, \n",
    "     (2,1): {}, (3,1): {}, (0,2): {}, (1,2): {}, (2,2): {}, (3,2): {}}\n",
    "    \n",
    "    most_likely = []\n",
    "    for index, row in df.iterrows():\n",
    "        ct = (int(row.balls), int(row.strikes))\n",
    "        c = row.offspeed\n",
    "\n",
    "        if ct not in d:\n",
    "            most_likely.append(0)\n",
    "            print(ct)\n",
    "            continue\n",
    "\n",
    "        ml = 0\n",
    "        most = 0\n",
    "        for key in d[ct]:\n",
    "            if d[ct][key] > most:\n",
    "                most = d[ct][key]\n",
    "                ml = key\n",
    "        most_likely.append(ml)\n",
    "\n",
    "        if c not in d[ct]:\n",
    "            d[ct][c] = 1\n",
    "        else:\n",
    "            d[ct][c] += 1\n",
    "            \n",
    "    y = y['offspeed'].tolist()\n",
    "    \n",
    "    corr, tot = 0, 0\n",
    "    for i in range(len(most_likely)):\n",
    "        tot += 1\n",
    "        if y[i] == most_likely[i]:\n",
    "            corr += 1\n",
    "    \n",
    "    scores[pitcher] = (corr/tot, corr, tot)\n",
    "    print(pitcher, corr/tot)\n",
    "    "
   ]
  },
  {
   "cell_type": "code",
   "execution_count": 33,
   "metadata": {},
   "outputs": [
    {
     "data": {
      "text/plain": [
       "{'Darvish': (0.37064396980889674, 4616, 12454),\n",
       " 'deGrom': (0.5129151291512916, 7228, 14092),\n",
       " 'Keuchel': (0.4267882187938289, 6086, 14260),\n",
       " 'Porcello': (0.40283342873497424, 5630, 13976),\n",
       " 'Scherzer': (0.49361893517737676, 8780, 17787),\n",
       " 'Lester': (0.43588805560636545, 7149, 16401),\n",
       " 'Verlander': (0.5495216100296931, 8328, 15155),\n",
       " 'Kimbrel': (0.63713163064833, 3243, 5090),\n",
       " 'Jansen': (0.8203845552602782, 5248, 6397),\n",
       " 'Eovaldi': (0.41823287967163536, 3872, 9258)}"
      ]
     },
     "execution_count": 33,
     "metadata": {},
     "output_type": "execute_result"
    }
   ],
   "source": [
    "scores"
   ]
  },
  {
   "cell_type": "code",
   "execution_count": 11,
   "metadata": {},
   "outputs": [
    {
     "name": "stderr",
     "output_type": "stream",
     "text": [
      "/Users/jacoblevy/Desktop/4701/4701/preprocessing.py:203: DtypeWarning: Columns (3) have mixed types.Specify dtype option on import or set low_memory=False.\n",
      "  df = create_usable_df(pitcher)\n"
     ]
    }
   ],
   "source": [
    "x, y = get_x_y_fastballs_offspeed('Darvish')\n",
    "df = x\n",
    "df['offspeed'] = y['offspeed']"
   ]
  },
  {
   "cell_type": "code",
   "execution_count": null,
   "metadata": {},
   "outputs": [],
   "source": []
  },
  {
   "cell_type": "code",
   "execution_count": 12,
   "metadata": {},
   "outputs": [],
   "source": [
    "df = df.iloc[1: , :]\n",
    "df = df.dropna()"
   ]
  },
  {
   "cell_type": "code",
   "execution_count": 14,
   "metadata": {},
   "outputs": [],
   "source": [
    "#A naive approach: up to this point in time, in this specific count, what pitch does Darvish throw the most frequently?"
   ]
  },
  {
   "cell_type": "code",
   "execution_count": 15,
   "metadata": {},
   "outputs": [],
   "source": [
    "d = {(0,0): {}, (1,0): {}, (2,0): {}, (3,0): {}, (0,1): {}, (1,1): {}, \n",
    "     (2,1): {}, (3,1): {}, (0,2): {}, (1,2): {}, (2,2): {}, (3,2): {}}"
   ]
  },
  {
   "cell_type": "code",
   "execution_count": 17,
   "metadata": {},
   "outputs": [
    {
     "name": "stdout",
     "output_type": "stream",
     "text": [
      "(3, 3)\n"
     ]
    }
   ],
   "source": [
    "most_likely = []\n",
    "for index, row in df.iterrows():\n",
    "    ct = (int(row.balls), int(row.strikes))\n",
    "    c = row.offspeed\n",
    "    \n",
    "    if ct not in d:\n",
    "        most_likely.append(0)\n",
    "        print(ct)\n",
    "        continue\n",
    "        \n",
    "    ml = 0\n",
    "    most = 0\n",
    "    for key in d[ct]:\n",
    "        if d[ct][key] > most:\n",
    "            most = d[ct][key]\n",
    "            ml = key\n",
    "    most_likely.append(ml)\n",
    "    \n",
    "    if c not in d[ct]:\n",
    "        d[ct][c] = 1\n",
    "    else:\n",
    "        d[ct][c] += 1\n",
    "        \n",
    "    "
   ]
  },
  {
   "cell_type": "code",
   "execution_count": 18,
   "metadata": {},
   "outputs": [],
   "source": [
    "y = y['offspeed'].tolist()"
   ]
  },
  {
   "cell_type": "code",
   "execution_count": 19,
   "metadata": {},
   "outputs": [
    {
     "data": {
      "text/plain": [
       "{(0, 0): {0.0: 1260, 1.0: 1100, 2.0: 800},\n",
       " (1, 0): {1.0: 563, 0.0: 422, 2.0: 265},\n",
       " (2, 0): {0.0: 179, 1.0: 196, 2.0: 39},\n",
       " (3, 0): {0.0: 88, 2.0: 1, 1.0: 48},\n",
       " (0, 1): {1.0: 501, 2.0: 514, 0.0: 581},\n",
       " (1, 1): {1.0: 473, 0.0: 418, 2.0: 363},\n",
       " (2, 1): {0.0: 191, 2.0: 135, 1.0: 274},\n",
       " (3, 1): {0.0: 105, 2.0: 34, 1.0: 121},\n",
       " (0, 2): {0.0: 336, 2.0: 319, 1.0: 263},\n",
       " (1, 2): {0.0: 410, 2.0: 499, 1.0: 377},\n",
       " (2, 2): {2.0: 424, 1.0: 321, 0.0: 263},\n",
       " (3, 2): {2.0: 209, 0.0: 143, 1.0: 218}}"
      ]
     },
     "execution_count": 19,
     "metadata": {},
     "output_type": "execute_result"
    }
   ],
   "source": [
    "d"
   ]
  },
  {
   "cell_type": "code",
   "execution_count": 20,
   "metadata": {},
   "outputs": [],
   "source": [
    "corr, tot = 0, 0\n",
    "for i in range(len(most_likely)):\n",
    "    tot += 1\n",
    "    if y[i] == most_likely[i]:\n",
    "        corr += 1"
   ]
  },
  {
   "cell_type": "code",
   "execution_count": 21,
   "metadata": {},
   "outputs": [
    {
     "data": {
      "text/plain": [
       "(4616, 12454)"
      ]
     },
     "execution_count": 21,
     "metadata": {},
     "output_type": "execute_result"
    }
   ],
   "source": [
    "corr, tot"
   ]
  },
  {
   "cell_type": "code",
   "execution_count": 22,
   "metadata": {},
   "outputs": [
    {
     "data": {
      "text/plain": [
       "0.37064396980889674"
      ]
     },
     "execution_count": 22,
     "metadata": {},
     "output_type": "execute_result"
    }
   ],
   "source": [
    "corr/tot"
   ]
  },
  {
   "cell_type": "code",
   "execution_count": 73,
   "metadata": {},
   "outputs": [
    {
     "data": {
      "text/plain": [
       "0"
      ]
     },
     "execution_count": 73,
     "metadata": {},
     "output_type": "execute_result"
    }
   ],
   "source": [
    "most_likely.count(4)"
   ]
  },
  {
   "cell_type": "code",
   "execution_count": null,
   "metadata": {},
   "outputs": [],
   "source": []
  }
 ],
 "metadata": {
  "kernelspec": {
   "display_name": "Python 3",
   "language": "python",
   "name": "python3"
  },
  "language_info": {
   "codemirror_mode": {
    "name": "ipython",
    "version": 3
   },
   "file_extension": ".py",
   "mimetype": "text/x-python",
   "name": "python",
   "nbconvert_exporter": "python",
   "pygments_lexer": "ipython3",
   "version": "3.8.4"
  }
 },
 "nbformat": 4,
 "nbformat_minor": 4
}
